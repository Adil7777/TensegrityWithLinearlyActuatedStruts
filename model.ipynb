{
 "cells": [
  {
   "cell_type": "code",
   "execution_count": 9,
   "metadata": {},
   "outputs": [],
   "source": [
    "from sklearn.model_selection import train_test_split\n",
    "from torch.utils.data import TensorDataset, DataLoader\n",
    "import matplotlib.pyplot as plt\n",
    "import torch\n",
    "import torch.nn as nn\n",
    "import torch.nn.init as init\n",
    "import torch.optim as optim\n",
    "import pandas as pd\n",
    "import numpy as np\n",
    "import random"
   ]
  },
  {
   "cell_type": "code",
   "execution_count": 2,
   "metadata": {},
   "outputs": [],
   "source": [
    "def set_seed(seed=42):\n",
    "    \"\"\"Set all random seeds for reproducibility\"\"\"\n",
    "    random.seed(seed)\n",
    "    np.random.seed(seed)\n",
    "    torch.manual_seed(seed)\n",
    "    torch.cuda.manual_seed_all(seed)  \n",
    "    torch.backends.cudnn.deterministic = True\n",
    "    torch.backends.cudnn.benchmark = False\n",
    "\n",
    "\n",
    "set_seed(42)  "
   ]
  },
  {
   "cell_type": "code",
   "execution_count": 3,
   "metadata": {},
   "outputs": [
    {
     "data": {
      "text/html": [
       "<div>\n",
       "<style scoped>\n",
       "    .dataframe tbody tr th:only-of-type {\n",
       "        vertical-align: middle;\n",
       "    }\n",
       "\n",
       "    .dataframe tbody tr th {\n",
       "        vertical-align: top;\n",
       "    }\n",
       "\n",
       "    .dataframe thead th {\n",
       "        text-align: right;\n",
       "    }\n",
       "</style>\n",
       "<table border=\"1\" class=\"dataframe\">\n",
       "  <thead>\n",
       "    <tr style=\"text-align: right;\">\n",
       "      <th></th>\n",
       "      <th>X</th>\n",
       "      <th>Y</th>\n",
       "      <th>Z</th>\n",
       "      <th>A0</th>\n",
       "      <th>A1</th>\n",
       "      <th>A2</th>\n",
       "      <th>A5</th>\n",
       "      <th>A6</th>\n",
       "      <th>A7</th>\n",
       "    </tr>\n",
       "  </thead>\n",
       "  <tbody>\n",
       "    <tr>\n",
       "      <th>0</th>\n",
       "      <td>0.000000</td>\n",
       "      <td>-0.759297</td>\n",
       "      <td>0.419074</td>\n",
       "      <td>3.31</td>\n",
       "      <td>2.01</td>\n",
       "      <td>0.0</td>\n",
       "      <td>1.94</td>\n",
       "      <td>1.58</td>\n",
       "      <td>1.65</td>\n",
       "    </tr>\n",
       "    <tr>\n",
       "      <th>1</th>\n",
       "      <td>0.058824</td>\n",
       "      <td>-0.759205</td>\n",
       "      <td>0.418863</td>\n",
       "      <td>3.39</td>\n",
       "      <td>2.23</td>\n",
       "      <td>0.0</td>\n",
       "      <td>2.09</td>\n",
       "      <td>1.73</td>\n",
       "      <td>1.80</td>\n",
       "    </tr>\n",
       "    <tr>\n",
       "      <th>2</th>\n",
       "      <td>0.117647</td>\n",
       "      <td>-0.759242</td>\n",
       "      <td>0.419042</td>\n",
       "      <td>3.46</td>\n",
       "      <td>2.16</td>\n",
       "      <td>0.0</td>\n",
       "      <td>2.09</td>\n",
       "      <td>1.80</td>\n",
       "      <td>1.87</td>\n",
       "    </tr>\n",
       "    <tr>\n",
       "      <th>3</th>\n",
       "      <td>0.176471</td>\n",
       "      <td>-0.759302</td>\n",
       "      <td>0.419248</td>\n",
       "      <td>3.67</td>\n",
       "      <td>2.30</td>\n",
       "      <td>0.0</td>\n",
       "      <td>2.23</td>\n",
       "      <td>1.87</td>\n",
       "      <td>1.94</td>\n",
       "    </tr>\n",
       "    <tr>\n",
       "      <th>4</th>\n",
       "      <td>0.235294</td>\n",
       "      <td>-0.759177</td>\n",
       "      <td>0.418970</td>\n",
       "      <td>3.82</td>\n",
       "      <td>2.30</td>\n",
       "      <td>0.0</td>\n",
       "      <td>2.16</td>\n",
       "      <td>1.87</td>\n",
       "      <td>1.94</td>\n",
       "    </tr>\n",
       "  </tbody>\n",
       "</table>\n",
       "</div>"
      ],
      "text/plain": [
       "          X         Y         Z    A0    A1   A2    A5    A6    A7\n",
       "0  0.000000 -0.759297  0.419074  3.31  2.01  0.0  1.94  1.58  1.65\n",
       "1  0.058824 -0.759205  0.418863  3.39  2.23  0.0  2.09  1.73  1.80\n",
       "2  0.117647 -0.759242  0.419042  3.46  2.16  0.0  2.09  1.80  1.87\n",
       "3  0.176471 -0.759302  0.419248  3.67  2.30  0.0  2.23  1.87  1.94\n",
       "4  0.235294 -0.759177  0.418970  3.82  2.30  0.0  2.16  1.87  1.94"
      ]
     },
     "execution_count": 3,
     "metadata": {},
     "output_type": "execute_result"
    }
   ],
   "source": [
    "dataset = pd.read_csv('dataset.csv')\n",
    "dataset.head()"
   ]
  },
  {
   "cell_type": "code",
   "execution_count": 4,
   "metadata": {},
   "outputs": [
    {
     "name": "stdout",
     "output_type": "stream",
     "text": [
      "<class 'pandas.core.frame.DataFrame'>\n",
      "RangeIndex: 10708 entries, 0 to 10707\n",
      "Data columns (total 9 columns):\n",
      " #   Column  Non-Null Count  Dtype  \n",
      "---  ------  --------------  -----  \n",
      " 0   X       10708 non-null  float64\n",
      " 1   Y       10708 non-null  float64\n",
      " 2   Z       10708 non-null  float64\n",
      " 3   A0      10708 non-null  float64\n",
      " 4   A1      10708 non-null  float64\n",
      " 5   A2      10708 non-null  float64\n",
      " 6   A5      10708 non-null  float64\n",
      " 7   A6      10708 non-null  float64\n",
      " 8   A7      10708 non-null  float64\n",
      "dtypes: float64(9)\n",
      "memory usage: 753.0 KB\n"
     ]
    }
   ],
   "source": [
    "dataset.info()"
   ]
  },
  {
   "cell_type": "code",
   "execution_count": 5,
   "metadata": {},
   "outputs": [],
   "source": [
    "X, y = dataset[[\"X\", \"Y\", \"Z\"]], dataset[['A0', 'A1', 'A2', 'A5', 'A6', 'A7']]\n",
    "\n",
    "x_mean = X.iloc[:, 0].mean()\n",
    "\n",
    "x_std = X.iloc[:, 0].std()\n",
    "y_mean = X.iloc[:, 1].mean()\n",
    "y_std = X.iloc[:, 1].std()\n",
    "z_mean = X.iloc[:, 2].mean()\n",
    "z_std = X.iloc[:, 2].std()\n",
    "\n",
    "# Normalize each column\n",
    "X_norm = np.copy(X)\n",
    "X_norm[:, 0] = (X.iloc[:, 0] - x_mean) / x_std\n",
    "X_norm[:, 1] = (X.iloc[:, 1] - y_mean) / y_std\n",
    "X_norm[:, 2] = (X.iloc[:, 2] - z_mean) / z_std\n",
    "\n",
    "y_norm = y / 73.8"
   ]
  },
  {
   "cell_type": "code",
   "execution_count": 6,
   "metadata": {},
   "outputs": [],
   "source": [
    "X_norm = torch.tensor(pd.DataFrame(X_norm).values, dtype=torch.float32)\n",
    "y_norm = torch.tensor(pd.DataFrame(y_norm).values, dtype=torch.float32)\n",
    "\n",
    "X_train, X_temp, y_train, y_temp = train_test_split(X_norm, y_norm, test_size=0.2, shuffle=True, random_state=42)\n",
    "X_val, X_test, y_val, y_test = train_test_split(X_temp, y_temp, test_size=0.5, random_state=42)"
   ]
  },
  {
   "cell_type": "code",
   "execution_count": 7,
   "metadata": {},
   "outputs": [
    {
     "data": {
      "text/plain": [
       "tensor([[-0.9425,  0.6090,  1.6928],\n",
       "        [-0.7765,  1.6047,  0.8203],\n",
       "        [ 1.5648, -0.5537,  0.8535],\n",
       "        ...,\n",
       "        [-0.1568, -0.2147, -1.0535],\n",
       "        [-1.2321, -1.6867,  0.6647],\n",
       "        [ 0.6153,  0.3961,  0.7643]])"
      ]
     },
     "execution_count": 7,
     "metadata": {},
     "output_type": "execute_result"
    }
   ],
   "source": [
    "X_train"
   ]
  },
  {
   "cell_type": "code",
   "execution_count": 8,
   "metadata": {},
   "outputs": [],
   "source": [
    "# Create datasets\n",
    "train_dataset = TensorDataset(X_train, y_train)\n",
    "val_dataset = TensorDataset(X_val, y_val)\n",
    "\n",
    "# Create loaders\n",
    "train_loader = DataLoader(train_dataset, batch_size=32, shuffle=True)\n",
    "val_loader = DataLoader(val_dataset, batch_size=32, shuffle=False)"
   ]
  },
  {
   "cell_type": "code",
   "execution_count": 16,
   "metadata": {},
   "outputs": [],
   "source": [
    "class LinearlyActuatedStrutsXavier(nn.Module):\n",
    "    def __init__(self):\n",
    "        super(LinearlyActuatedStrutsXavier, self).__init__()\n",
    "        self.model = nn.Sequential(\n",
    "            nn.Linear(3, 64),\n",
    "            nn.ReLU(),\n",
    "            nn.Linear(64, 128),\n",
    "            nn.ReLU(),\n",
    "            nn.Linear(128, 64),\n",
    "            nn.ReLU(),\n",
    "            nn.Linear(64, 6),\n",
    "            nn.Sigmoid()  # Constrain to [0, 1]\n",
    "        )\n",
    "        \n",
    "        # Initialize weights with Xavier/Glorot initialization\n",
    "        self._initialize_weights()\n",
    "\n",
    "    def _initialize_weights(self):\n",
    "        for m in self.model.modules():\n",
    "            if isinstance(m, nn.Linear):\n",
    "                torch.manual_seed(42) # Set seed for reproducibility\n",
    "                init.xavier_uniform_(m.weight)  # Xavier uniform initialization\n",
    "                if m.bias is not None:\n",
    "                    nn.init.zeros_(m.bias)      # Initialize biases to zero\n",
    "\n",
    "    def forward(self, x):\n",
    "        return self.model(x)\n",
    "    \n",
    "\n",
    "class LinearlyActuatedStrutsHe(nn.Module):\n",
    "    def __init__(self):\n",
    "        super(LinearlyActuatedStrutsHe, self).__init__()\n",
    "        self.model = nn.Sequential(\n",
    "            nn.Linear(3, 64),\n",
    "            nn.ReLU(),\n",
    "            nn.Linear(64, 128),\n",
    "            nn.ReLU(),\n",
    "            nn.Linear(128, 64),\n",
    "            nn.ReLU(),\n",
    "            nn.Linear(64, 6),\n",
    "            nn.Sigmoid()  # Constrain to [0, 1]\n",
    "        )\n",
    "        \n",
    "        # Initialize weights with Xavier/Glorot initialization\n",
    "        self._initialize_weights()\n",
    "\n",
    "    def _initialize_weights(self):\n",
    "        for m in self.model.modules():\n",
    "            if isinstance(m, nn.Linear):\n",
    "                torch.manual_seed(42) # Set seed for reproducibility\n",
    "                init.kaiming_uniform_(m.weight, mode='fan_in', nonlinearity='relu')\n",
    "                if m.bias is not None:\n",
    "                    nn.init.zeros_(m.bias)\n",
    "\n",
    "    def forward(self, x):\n",
    "        return self.model(x)\n"
   ]
  },
  {
   "cell_type": "code",
   "execution_count": 19,
   "metadata": {},
   "outputs": [],
   "source": [
    "def train_model(\n",
    "    model: nn.Module,\n",
    "    train_loader: DataLoader,\n",
    "    val_loader: DataLoader,\n",
    "    model_name: str = \"model\",\n",
    "    criterion: nn.Module = nn.MSELoss(),\n",
    "    optimizer: torch.optim.Optimizer = None,\n",
    "    lr: float = 1e-3,\n",
    "    num_epochs: int = 100,\n",
    "    scale_factor: float = 73.8,  \n",
    "    save_best: bool = True,\n",
    "    verbose: bool = True\n",
    ") -> dict:\n",
    "    \"\"\"\n",
    "    Train and evaluate a single PyTorch model\n",
    "    \n",
    "    Args:\n",
    "        model: Initialized PyTorch model\n",
    "        train_loader: Training data loader\n",
    "        val_loader: Validation data loader\n",
    "        model_name: Name for saving/printing\n",
    "        criterion: Loss function (default MSELoss)\n",
    "        optimizer: Optimizer (defaults to Adam if None)\n",
    "        lr: Learning rate if optimizer is None\n",
    "        num_epochs: Training epochs\n",
    "        scale_factor: Loss scaling factor\n",
    "        save_best: Whether to save best model weights\n",
    "        verbose: Print progress\n",
    "    \n",
    "    Returns:\n",
    "        Dictionary with training history and best model state\n",
    "    \"\"\"\n",
    "    device = torch.device('cuda' if torch.cuda.is_available() else 'cpu')\n",
    "    model = model.to(device)\n",
    "    \n",
    "    if optimizer is None:\n",
    "        optimizer = optim.Adam(model.parameters(), lr=lr)\n",
    "    \n",
    "    history = {\n",
    "        'train_loss': [],\n",
    "        'val_loss': [],\n",
    "        'best_val_loss': float('inf'),\n",
    "        'best_model_state': None,\n",
    "        'epoch_best': 0\n",
    "    }\n",
    "    \n",
    "    for epoch in range(num_epochs):\n",
    "        # Training\n",
    "        model.train()\n",
    "        train_loss = 0.0\n",
    "        for inputs, targets in train_loader:\n",
    "            inputs, targets = inputs.to(device), targets.to(device)\n",
    "            \n",
    "            optimizer.zero_grad()\n",
    "            outputs = model(inputs)\n",
    "            loss = criterion(outputs, targets)\n",
    "            loss.backward()\n",
    "            optimizer.step()\n",
    "            \n",
    "            train_loss += loss.item() * inputs.size(0)\n",
    "        \n",
    "        # Validation\n",
    "        val_loss = 0.0\n",
    "        model.eval()\n",
    "        with torch.no_grad():\n",
    "            for inputs, targets in val_loader:\n",
    "                inputs, targets = inputs.to(device), targets.to(device)\n",
    "                outputs = model(inputs)\n",
    "                loss = criterion(outputs, targets)\n",
    "                val_loss += loss.item() * inputs.size(0)\n",
    "        \n",
    "        # Record metrics\n",
    "        train_loss = train_loss / len(train_loader.dataset) * scale_factor\n",
    "        val_loss = val_loss / len(val_loader.dataset) * scale_factor\n",
    "        history['train_loss'].append(train_loss)\n",
    "        history['val_loss'].append(val_loss)\n",
    "        \n",
    "        # Update best model\n",
    "        if val_loss < history['best_val_loss']:\n",
    "            history['best_val_loss'] = val_loss\n",
    "            history['best_model_state'] = model.state_dict()\n",
    "            history['epoch_best'] = epoch + 1\n",
    "        \n",
    "        # Print progress\n",
    "        if verbose and (epoch % 10 == 0 or epoch == num_epochs - 1):\n",
    "            print(f\"Epoch {epoch+1}/{num_epochs} | \"\n",
    "                  f\"Train Loss: {train_loss:.4f} | \"\n",
    "                  f\"Val Loss: {val_loss:.4f}\")\n",
    "    \n",
    "    # Save best model weights\n",
    "    if save_best and history['best_model_state'] is not None:\n",
    "        torch.save(history['best_model_state'], f'best_{model_name}.pth')\n",
    "    \n",
    "    return history"
   ]
  },
  {
   "cell_type": "code",
   "execution_count": 22,
   "metadata": {},
   "outputs": [
    {
     "name": "stdout",
     "output_type": "stream",
     "text": [
      "Epoch 1/300 | Train Loss: 4.8894 | Val Loss: 1.8403\n",
      "Epoch 11/300 | Train Loss: 0.1250 | Val Loss: 0.1478\n",
      "Epoch 21/300 | Train Loss: 0.0555 | Val Loss: 0.0948\n",
      "Epoch 31/300 | Train Loss: 0.0448 | Val Loss: 0.0380\n",
      "Epoch 41/300 | Train Loss: 0.0385 | Val Loss: 0.0356\n",
      "Epoch 51/300 | Train Loss: 0.0313 | Val Loss: 0.0350\n",
      "Epoch 61/300 | Train Loss: 0.0355 | Val Loss: 0.0408\n",
      "Epoch 71/300 | Train Loss: 0.0293 | Val Loss: 0.0227\n",
      "Epoch 81/300 | Train Loss: 0.0297 | Val Loss: 0.0244\n",
      "Epoch 91/300 | Train Loss: 0.0244 | Val Loss: 0.0258\n",
      "Epoch 101/300 | Train Loss: 0.0199 | Val Loss: 0.0286\n",
      "Epoch 111/300 | Train Loss: 0.0189 | Val Loss: 0.0143\n",
      "Epoch 121/300 | Train Loss: 0.0188 | Val Loss: 0.0220\n",
      "Epoch 131/300 | Train Loss: 0.0189 | Val Loss: 0.0156\n",
      "Epoch 141/300 | Train Loss: 0.0158 | Val Loss: 0.0149\n",
      "Epoch 151/300 | Train Loss: 0.0159 | Val Loss: 0.0175\n",
      "Epoch 161/300 | Train Loss: 0.0147 | Val Loss: 0.0206\n",
      "Epoch 171/300 | Train Loss: 0.0159 | Val Loss: 0.0144\n",
      "Epoch 181/300 | Train Loss: 0.0162 | Val Loss: 0.0213\n",
      "Epoch 191/300 | Train Loss: 0.0138 | Val Loss: 0.0104\n",
      "Epoch 201/300 | Train Loss: 0.0263 | Val Loss: 0.0133\n",
      "Epoch 211/300 | Train Loss: 0.0121 | Val Loss: 0.0119\n",
      "Epoch 221/300 | Train Loss: 0.0134 | Val Loss: 0.0105\n",
      "Epoch 231/300 | Train Loss: 0.0126 | Val Loss: 0.0108\n",
      "Epoch 241/300 | Train Loss: 0.0121 | Val Loss: 0.0117\n",
      "Epoch 251/300 | Train Loss: 0.0125 | Val Loss: 0.0100\n",
      "Epoch 261/300 | Train Loss: 0.0136 | Val Loss: 0.0177\n",
      "Epoch 271/300 | Train Loss: 0.0142 | Val Loss: 0.0125\n",
      "Epoch 281/300 | Train Loss: 0.0112 | Val Loss: 0.0121\n",
      "Epoch 291/300 | Train Loss: 0.0102 | Val Loss: 0.0327\n",
      "Epoch 300/300 | Train Loss: 0.0111 | Val Loss: 0.0116\n",
      "Best validation loss with Xavier Initialization: 0.0081 at epoch 279\n"
     ]
    }
   ],
   "source": [
    "# Initialize your model\n",
    "model_xavier = LinearlyActuatedStrutsXavier()\n",
    "\n",
    "# Train and evaluate\n",
    "history_xavier = train_model(\n",
    "    model=model_xavier,\n",
    "    train_loader=train_loader,\n",
    "    val_loader=val_loader,\n",
    "    model_name=\"Xavier_Model_1e-3\",\n",
    "    num_epochs=300,\n",
    "    scale_factor=73.8  # Your specific scaling factor\n",
    ")\n",
    "\n",
    "# Access results\n",
    "print(f\"Best validation loss with Xavier Initialization: {history_xavier['best_val_loss']:.4f} at epoch {history_xavier['epoch_best']}\")"
   ]
  },
  {
   "cell_type": "code",
   "execution_count": 23,
   "metadata": {},
   "outputs": [
    {
     "data": {
      "image/png": "[encoded data removed]",
      "text/plain": [
       "<Figure size 1000x500 with 1 Axes>"
      ]
     },
     "metadata": {},
     "output_type": "display_data"
    }
   ],
   "source": [
    "def plot_losses(train_loss, val_loss):\n",
    "    epochs = np.arange(1, len(train_loss) + 1)\n",
    "    plt.figure(figsize=(10, 5))\n",
    "    plt.plot(epochs, train_loss, label='Train Loss')\n",
    "    plt.plot(epochs, val_loss, label='Validation Loss')\n",
    "    plt.title('Losses over Epochs')\n",
    "    plt.xlabel('Epochs')\n",
    "    plt.ylabel('Loss')\n",
    "    plt.legend()\n",
    "    plt.show()\n",
    "\n",
    "\n",
    "plot_losses(history_xavier[\"train_loss\"], history_xavier[\"val_loss\"])"
   ]
  },
  {
   "cell_type": "code",
   "execution_count": 25,
   "metadata": {},
   "outputs": [
    {
     "name": "stdout",
     "output_type": "stream",
     "text": [
      "Model: Xavier_Model_1e-3 | MSE: 0.9149 | MAE: 0.5625\n"
     ]
    }
   ],
   "source": [
    "def calculate_model_performance(model_name):\n",
    "    \"\"\"Calculate and print model performance metrics\"\"\"\n",
    "    model = LinearlyActuatedStrutsXavier() if model_name == \"Xavier\" else LinearlyActuatedStrutsHe()\n",
    "    model.load_state_dict(torch.load(f'best_{model_name}.pth'))\n",
    "    \n",
    "    # Evaluate on test set\n",
    "    model.eval()\n",
    "    with torch.no_grad():\n",
    "        predictions = model(X_test)\n",
    "    \n",
    "    # Rescale predictions back to [0, 73.8]\n",
    "    pred_real = predictions * 73.8\n",
    "    \n",
    "    # Calculate metrics\n",
    "    mse = nn.MSELoss()(pred_real, y_test * 73.8).item()\n",
    "    mae = torch.mean(torch.abs(pred_real - y_test * 73.8)).item()\n",
    "    \n",
    "    print(f\"Model: {model_name} | MSE: {mse:.4f} | MAE: {mae:.4f}\")\n",
    "    return pred_real, mse, mae\n",
    "\n",
    "\n",
    "xavier_pred, xavier_mse, xavier_mae = calculate_model_performance(\"Xavier_Model_1e-3\")"
   ]
  },
  {
   "cell_type": "code",
   "execution_count": 28,
   "metadata": {},
   "outputs": [
    {
     "name": "stdout",
     "output_type": "stream",
     "text": [
      "tensor([[73.6000, 73.8000, 73.8000,  0.8000,  0.1000, 69.2000],\n",
      "        [ 0.1000,  0.2000, 57.6000,  0.2000, 47.8000,  0.0000],\n",
      "        [49.5000, 29.0000,  0.4000, 17.1000, 24.1000, 22.9000],\n",
      "        ...,\n",
      "        [73.4000, 73.6000, 73.7000, 53.8000,  0.1000,  0.3000],\n",
      "        [73.7000, 73.7000, 73.7000,  0.1000, 73.7000, 54.7000],\n",
      "        [73.7000, 69.9000,  0.0000, 44.9000, 66.6000, 56.9000]])\n"
     ]
    }
   ],
   "source": [
    "xavier_pred = torch.round(xavier_pred, decimals=1)\n",
    "print(xavier_pred)"
   ]
  },
  {
   "cell_type": "code",
   "execution_count": 27,
   "metadata": {},
   "outputs": [
    {
     "name": "stdout",
     "output_type": "stream",
     "text": [
      "tensor([[73.4300, 73.3600, 73.2900,  0.0000,  0.0000, 69.4700],\n",
      "        [ 0.0000,  0.0000, 57.5600,  0.0000, 48.9800,  0.0000],\n",
      "        [49.2700, 28.4200,  0.0000, 16.8800, 24.0200, 23.3700],\n",
      "        ...,\n",
      "        [73.8000, 73.7200, 73.8000, 54.3900,  0.0000,  0.0000],\n",
      "        [73.8000, 73.8000, 73.8000,  0.0000, 73.8000, 54.6100],\n",
      "        [73.5800, 71.1300,  0.0000, 44.6500, 67.7400, 56.7000]])\n"
     ]
    }
   ],
   "source": [
    "y_test_scaled = y_test * 73.8\n",
    "print(y_test_scaled)"
   ]
  },
  {
   "cell_type": "markdown",
   "metadata": {},
   "source": [
    "Now we will try with smaller learning rates"
   ]
  },
  {
   "cell_type": "code",
   "execution_count": 32,
   "metadata": {},
   "outputs": [
    {
     "name": "stdout",
     "output_type": "stream",
     "text": [
      "Epoch 1/600 | Train Loss: 6.8989 | Val Loss: 3.3473\n",
      "Epoch 11/600 | Train Loss: 0.2090 | Val Loss: 0.2206\n",
      "Epoch 21/600 | Train Loss: 0.0815 | Val Loss: 0.0795\n",
      "Epoch 31/600 | Train Loss: 0.0516 | Val Loss: 0.0643\n",
      "Epoch 41/600 | Train Loss: 0.0408 | Val Loss: 0.0371\n",
      "Epoch 51/600 | Train Loss: 0.0361 | Val Loss: 0.0427\n",
      "Epoch 61/600 | Train Loss: 0.0357 | Val Loss: 0.0419\n",
      "Epoch 71/600 | Train Loss: 0.0313 | Val Loss: 0.0240\n",
      "Epoch 81/600 | Train Loss: 0.0351 | Val Loss: 0.0267\n",
      "Epoch 91/600 | Train Loss: 0.0255 | Val Loss: 0.0277\n",
      "Epoch 101/600 | Train Loss: 0.0209 | Val Loss: 0.0224\n",
      "Epoch 111/600 | Train Loss: 0.0234 | Val Loss: 0.0196\n",
      "Epoch 121/600 | Train Loss: 0.0216 | Val Loss: 0.0226\n",
      "Epoch 131/600 | Train Loss: 0.0182 | Val Loss: 0.0184\n",
      "Epoch 141/600 | Train Loss: 0.0170 | Val Loss: 0.0173\n",
      "Epoch 151/600 | Train Loss: 0.0191 | Val Loss: 0.0183\n",
      "Epoch 161/600 | Train Loss: 0.0168 | Val Loss: 0.0187\n",
      "Epoch 171/600 | Train Loss: 0.0159 | Val Loss: 0.0161\n",
      "Epoch 181/600 | Train Loss: 0.0180 | Val Loss: 0.0176\n",
      "Epoch 191/600 | Train Loss: 0.0158 | Val Loss: 0.0181\n",
      "Epoch 201/600 | Train Loss: 0.0165 | Val Loss: 0.0196\n",
      "Epoch 211/600 | Train Loss: 0.0146 | Val Loss: 0.0139\n",
      "Epoch 221/600 | Train Loss: 0.0172 | Val Loss: 0.0185\n",
      "Epoch 231/600 | Train Loss: 0.0145 | Val Loss: 0.0118\n",
      "Epoch 241/600 | Train Loss: 0.0161 | Val Loss: 0.0154\n",
      "Epoch 251/600 | Train Loss: 0.0148 | Val Loss: 0.0127\n",
      "Epoch 261/600 | Train Loss: 0.0171 | Val Loss: 0.0189\n",
      "Epoch 271/600 | Train Loss: 0.0151 | Val Loss: 0.0110\n",
      "Epoch 281/600 | Train Loss: 0.0156 | Val Loss: 0.0117\n",
      "Epoch 291/600 | Train Loss: 0.0145 | Val Loss: 0.0119\n",
      "Epoch 301/600 | Train Loss: 0.0153 | Val Loss: 0.0139\n",
      "Epoch 311/600 | Train Loss: 0.0127 | Val Loss: 0.0126\n",
      "Epoch 321/600 | Train Loss: 0.0140 | Val Loss: 0.0144\n",
      "Epoch 331/600 | Train Loss: 0.0131 | Val Loss: 0.0130\n",
      "Epoch 341/600 | Train Loss: 0.0121 | Val Loss: 0.0108\n",
      "Epoch 351/600 | Train Loss: 0.0121 | Val Loss: 0.0113\n",
      "Epoch 361/600 | Train Loss: 0.0120 | Val Loss: 0.0100\n",
      "Epoch 371/600 | Train Loss: 0.0131 | Val Loss: 0.0116\n",
      "Epoch 381/600 | Train Loss: 0.0123 | Val Loss: 0.0104\n",
      "Epoch 391/600 | Train Loss: 0.0106 | Val Loss: 0.0098\n",
      "Epoch 401/600 | Train Loss: 0.0106 | Val Loss: 0.0101\n",
      "Epoch 411/600 | Train Loss: 0.0120 | Val Loss: 0.0110\n",
      "Epoch 421/600 | Train Loss: 0.0132 | Val Loss: 0.0134\n",
      "Epoch 431/600 | Train Loss: 0.0109 | Val Loss: 0.0092\n",
      "Epoch 441/600 | Train Loss: 0.0099 | Val Loss: 0.0099\n",
      "Epoch 451/600 | Train Loss: 0.0109 | Val Loss: 0.0097\n",
      "Epoch 461/600 | Train Loss: 0.0102 | Val Loss: 0.0104\n",
      "Epoch 471/600 | Train Loss: 0.0103 | Val Loss: 0.0112\n",
      "Epoch 481/600 | Train Loss: 0.0149 | Val Loss: 0.0121\n",
      "Epoch 491/600 | Train Loss: 0.0099 | Val Loss: 0.0082\n",
      "Epoch 501/600 | Train Loss: 0.0110 | Val Loss: 0.0093\n",
      "Epoch 511/600 | Train Loss: 0.0099 | Val Loss: 0.0093\n",
      "Epoch 521/600 | Train Loss: 0.0093 | Val Loss: 0.0110\n",
      "Epoch 531/600 | Train Loss: 0.0091 | Val Loss: 0.0112\n",
      "Epoch 541/600 | Train Loss: 0.0086 | Val Loss: 0.0098\n",
      "Epoch 551/600 | Train Loss: 0.0094 | Val Loss: 0.0087\n",
      "Epoch 561/600 | Train Loss: 0.0095 | Val Loss: 0.0187\n",
      "Epoch 571/600 | Train Loss: 0.0091 | Val Loss: 0.0093\n",
      "Epoch 581/600 | Train Loss: 0.0102 | Val Loss: 0.0096\n",
      "Epoch 591/600 | Train Loss: 0.0104 | Val Loss: 0.0148\n",
      "Epoch 600/600 | Train Loss: 0.0090 | Val Loss: 0.0094\n",
      "Best validation loss with Xavier Initialization and Learning rate of 5e-4: 0.0070 at epoch 588\n"
     ]
    }
   ],
   "source": [
    "model_xavier_2 = LinearlyActuatedStrutsXavier()\n",
    "\n",
    "# Train and evaluate\n",
    "history_xavier_2 = train_model(\n",
    "    model=model_xavier_2,\n",
    "    train_loader=train_loader,\n",
    "    val_loader=val_loader,\n",
    "    model_name=\"Xavier_Model_5e-4\",\n",
    "    num_epochs=600,\n",
    "    scale_factor=73.8,  # Your specific scaling factor\n",
    "    lr= 5e-4,  # Learning rate for the second model\n",
    ")\n",
    "\n",
    "# Access results\n",
    "print(f\"Best validation loss with Xavier Initialization and Learning rate of 5e-4: {history_xavier_2['best_val_loss']:.4f} at epoch {history_xavier_2['epoch_best']}\")"
   ]
  },
  {
   "cell_type": "code",
   "execution_count": 33,
   "metadata": {},
   "outputs": [
    {
     "name": "stdout",
     "output_type": "stream",
     "text": [
      "Model: Xavier_Model_5e-4 | MSE: 0.6662 | MAE: 0.4856\n"
     ]
    }
   ],
   "source": [
    "xavier_pred_2, xavier_mse_2, xavier_mae_2 = calculate_model_performance(\"Xavier_Model_5e-4\")"
   ]
  },
  {
   "cell_type": "markdown",
   "metadata": {},
   "source": [
    "Now we will try with He initialization"
   ]
  },
  {
   "cell_type": "code",
   "execution_count": 35,
   "metadata": {},
   "outputs": [
    {
     "name": "stdout",
     "output_type": "stream",
     "text": [
      "Epoch 1/500 | Train Loss: 4.4049 | Val Loss: 1.9047\n",
      "Epoch 11/500 | Train Loss: 0.1512 | Val Loss: 0.1698\n",
      "Epoch 21/500 | Train Loss: 0.0678 | Val Loss: 0.0881\n",
      "Epoch 31/500 | Train Loss: 0.0424 | Val Loss: 0.0547\n",
      "Epoch 41/500 | Train Loss: 0.0354 | Val Loss: 0.0294\n",
      "Epoch 51/500 | Train Loss: 0.0330 | Val Loss: 0.0280\n",
      "Epoch 61/500 | Train Loss: 0.0466 | Val Loss: 0.0204\n",
      "Epoch 71/500 | Train Loss: 0.0207 | Val Loss: 0.0208\n",
      "Epoch 81/500 | Train Loss: 0.0191 | Val Loss: 0.0207\n",
      "Epoch 91/500 | Train Loss: 0.0209 | Val Loss: 0.0254\n",
      "Epoch 101/500 | Train Loss: 0.0148 | Val Loss: 0.0146\n",
      "Epoch 111/500 | Train Loss: 0.0177 | Val Loss: 0.0269\n",
      "Epoch 121/500 | Train Loss: 0.0168 | Val Loss: 0.0148\n",
      "Epoch 131/500 | Train Loss: 0.0147 | Val Loss: 0.0136\n",
      "Epoch 141/500 | Train Loss: 0.0127 | Val Loss: 0.0120\n",
      "Epoch 151/500 | Train Loss: 0.0122 | Val Loss: 0.0118\n",
      "Epoch 161/500 | Train Loss: 0.0107 | Val Loss: 0.0102\n",
      "Epoch 171/500 | Train Loss: 0.0186 | Val Loss: 0.0118\n",
      "Epoch 181/500 | Train Loss: 0.0138 | Val Loss: 0.0218\n",
      "Epoch 191/500 | Train Loss: 0.0109 | Val Loss: 0.0152\n",
      "Epoch 201/500 | Train Loss: 0.0152 | Val Loss: 0.0092\n",
      "Epoch 211/500 | Train Loss: 0.0097 | Val Loss: 0.0078\n",
      "Epoch 221/500 | Train Loss: 0.0099 | Val Loss: 0.0099\n",
      "Epoch 231/500 | Train Loss: 0.0092 | Val Loss: 0.0074\n",
      "Epoch 241/500 | Train Loss: 0.0097 | Val Loss: 0.0093\n",
      "Epoch 251/500 | Train Loss: 0.0106 | Val Loss: 0.0070\n",
      "Epoch 261/500 | Train Loss: 0.0080 | Val Loss: 0.0096\n",
      "Epoch 271/500 | Train Loss: 0.0096 | Val Loss: 0.0086\n",
      "Epoch 281/500 | Train Loss: 0.0080 | Val Loss: 0.0089\n",
      "Epoch 291/500 | Train Loss: 0.0101 | Val Loss: 0.0287\n",
      "Epoch 301/500 | Train Loss: 0.0113 | Val Loss: 0.0078\n",
      "Epoch 311/500 | Train Loss: 0.0077 | Val Loss: 0.0089\n",
      "Epoch 321/500 | Train Loss: 0.0089 | Val Loss: 0.0079\n",
      "Epoch 331/500 | Train Loss: 0.0073 | Val Loss: 0.0078\n",
      "Epoch 341/500 | Train Loss: 0.0089 | Val Loss: 0.0080\n",
      "Epoch 351/500 | Train Loss: 0.0083 | Val Loss: 0.0104\n",
      "Epoch 361/500 | Train Loss: 0.0078 | Val Loss: 0.0090\n",
      "Epoch 371/500 | Train Loss: 0.0078 | Val Loss: 0.0063\n",
      "Epoch 381/500 | Train Loss: 0.0073 | Val Loss: 0.0061\n",
      "Epoch 391/500 | Train Loss: 0.0081 | Val Loss: 0.0087\n",
      "Epoch 401/500 | Train Loss: 0.0065 | Val Loss: 0.0071\n",
      "Epoch 411/500 | Train Loss: 0.0086 | Val Loss: 0.0067\n",
      "Epoch 421/500 | Train Loss: 0.0071 | Val Loss: 0.0068\n",
      "Epoch 431/500 | Train Loss: 0.0063 | Val Loss: 0.0056\n",
      "Epoch 441/500 | Train Loss: 0.0065 | Val Loss: 0.0058\n",
      "Epoch 451/500 | Train Loss: 0.0064 | Val Loss: 0.0068\n",
      "Epoch 461/500 | Train Loss: 0.0072 | Val Loss: 0.0074\n",
      "Epoch 471/500 | Train Loss: 0.0091 | Val Loss: 0.0106\n",
      "Epoch 481/500 | Train Loss: 0.0138 | Val Loss: 0.0104\n",
      "Epoch 491/500 | Train Loss: 0.0075 | Val Loss: 0.0063\n",
      "Epoch 500/500 | Train Loss: 0.0067 | Val Loss: 0.0056\n",
      "Best validation loss with He Initialization: 0.0053 at epoch 489\n"
     ]
    }
   ],
   "source": [
    "model_he = LinearlyActuatedStrutsHe()\n",
    "# Train and evaluate\n",
    "history_he = train_model(\n",
    "    model=model_he,\n",
    "    train_loader=train_loader,\n",
    "    val_loader=val_loader,\n",
    "    model_name=\"He_Model_1e-3\",\n",
    "    num_epochs=500,\n",
    "    scale_factor=73.8  # Your specific scaling factor\n",
    ")\n",
    "\n",
    "print(f\"Best validation loss with He Initialization: {history_he['best_val_loss']:.4f} at epoch {history_he['epoch_best']}\")"
   ]
  },
  {
   "cell_type": "code",
   "execution_count": 36,
   "metadata": {},
   "outputs": [
    {
     "name": "stdout",
     "output_type": "stream",
     "text": [
      "Model: He_Model_1e-3 | MSE: 0.4668 | MAE: 0.4097\n",
      "tensor([[73.5000, 73.8000, 73.8000,  0.4000,  0.1000, 69.8000],\n",
      "        [ 0.0000,  0.1000, 58.5000,  0.0000, 48.9000,  0.0000],\n",
      "        [48.8000, 29.9000,  0.2000, 17.4000, 25.1000, 24.3000],\n",
      "        ...,\n",
      "        [73.8000, 73.6000, 73.6000, 53.7000,  0.1000,  0.1000],\n",
      "        [73.8000, 73.8000, 73.8000,  0.0000, 73.5000, 52.9000],\n",
      "        [73.7000, 69.7000,  0.1000, 44.0000, 66.6000, 55.7000]])\n"
     ]
    }
   ],
   "source": [
    "he_pred, he_mse, he_mae = calculate_model_performance(\"He_Model_1e-3\")\n",
    "\n",
    "he_pred = torch.round(he_pred, decimals=1)\n",
    "print(he_pred)"
   ]
  },
  {
   "cell_type": "code",
   "execution_count": 37,
   "metadata": {},
   "outputs": [
    {
     "name": "stdout",
     "output_type": "stream",
     "text": [
      "Epoch 1/600 | Train Loss: 5.9647 | Val Loss: 3.1303\n",
      "Epoch 11/600 | Train Loss: 0.2495 | Val Loss: 0.2627\n",
      "Epoch 21/600 | Train Loss: 0.1110 | Val Loss: 0.1076\n",
      "Epoch 31/600 | Train Loss: 0.0603 | Val Loss: 0.0642\n",
      "Epoch 41/600 | Train Loss: 0.0463 | Val Loss: 0.0516\n",
      "Epoch 51/600 | Train Loss: 0.0348 | Val Loss: 0.0299\n",
      "Epoch 61/600 | Train Loss: 0.0361 | Val Loss: 0.0353\n",
      "Epoch 71/600 | Train Loss: 0.0253 | Val Loss: 0.0266\n",
      "Epoch 81/600 | Train Loss: 0.0260 | Val Loss: 0.0224\n",
      "Epoch 91/600 | Train Loss: 0.0240 | Val Loss: 0.0316\n",
      "Epoch 101/600 | Train Loss: 0.0191 | Val Loss: 0.0180\n",
      "Epoch 111/600 | Train Loss: 0.0191 | Val Loss: 0.0294\n",
      "Epoch 121/600 | Train Loss: 0.0211 | Val Loss: 0.0236\n",
      "Epoch 131/600 | Train Loss: 0.0157 | Val Loss: 0.0130\n",
      "Epoch 141/600 | Train Loss: 0.0150 | Val Loss: 0.0162\n",
      "Epoch 151/600 | Train Loss: 0.0156 | Val Loss: 0.0130\n",
      "Epoch 161/600 | Train Loss: 0.0144 | Val Loss: 0.0202\n",
      "Epoch 171/600 | Train Loss: 0.0164 | Val Loss: 0.0152\n",
      "Epoch 181/600 | Train Loss: 0.0155 | Val Loss: 0.0168\n",
      "Epoch 191/600 | Train Loss: 0.0136 | Val Loss: 0.0143\n",
      "Epoch 201/600 | Train Loss: 0.0143 | Val Loss: 0.0182\n",
      "Epoch 211/600 | Train Loss: 0.0124 | Val Loss: 0.0120\n",
      "Epoch 221/600 | Train Loss: 0.0132 | Val Loss: 0.0134\n",
      "Epoch 231/600 | Train Loss: 0.0112 | Val Loss: 0.0104\n",
      "Epoch 241/600 | Train Loss: 0.0124 | Val Loss: 0.0120\n",
      "Epoch 251/600 | Train Loss: 0.0137 | Val Loss: 0.0101\n",
      "Epoch 261/600 | Train Loss: 0.0136 | Val Loss: 0.0239\n",
      "Epoch 271/600 | Train Loss: 0.0123 | Val Loss: 0.0092\n",
      "Epoch 281/600 | Train Loss: 0.0110 | Val Loss: 0.0106\n",
      "Epoch 291/600 | Train Loss: 0.0104 | Val Loss: 0.0109\n",
      "Epoch 301/600 | Train Loss: 0.0112 | Val Loss: 0.0097\n",
      "Epoch 311/600 | Train Loss: 0.0102 | Val Loss: 0.0114\n",
      "Epoch 321/600 | Train Loss: 0.0108 | Val Loss: 0.0104\n",
      "Epoch 331/600 | Train Loss: 0.0094 | Val Loss: 0.0087\n",
      "Epoch 341/600 | Train Loss: 0.0100 | Val Loss: 0.0099\n",
      "Epoch 351/600 | Train Loss: 0.0093 | Val Loss: 0.0099\n",
      "Epoch 361/600 | Train Loss: 0.0091 | Val Loss: 0.0087\n",
      "Epoch 371/600 | Train Loss: 0.0096 | Val Loss: 0.0081\n",
      "Epoch 381/600 | Train Loss: 0.0083 | Val Loss: 0.0082\n",
      "Epoch 391/600 | Train Loss: 0.0086 | Val Loss: 0.0099\n",
      "Epoch 401/600 | Train Loss: 0.0086 | Val Loss: 0.0111\n",
      "Epoch 411/600 | Train Loss: 0.0095 | Val Loss: 0.0158\n",
      "Epoch 421/600 | Train Loss: 0.0086 | Val Loss: 0.0084\n",
      "Epoch 431/600 | Train Loss: 0.0083 | Val Loss: 0.0077\n",
      "Epoch 441/600 | Train Loss: 0.0077 | Val Loss: 0.0083\n",
      "Epoch 451/600 | Train Loss: 0.0078 | Val Loss: 0.0076\n",
      "Epoch 461/600 | Train Loss: 0.0076 | Val Loss: 0.0075\n",
      "Epoch 471/600 | Train Loss: 0.0082 | Val Loss: 0.0109\n",
      "Epoch 481/600 | Train Loss: 0.0074 | Val Loss: 0.0094\n",
      "Epoch 491/600 | Train Loss: 0.0082 | Val Loss: 0.0072\n",
      "Epoch 501/600 | Train Loss: 0.0080 | Val Loss: 0.0066\n",
      "Epoch 511/600 | Train Loss: 0.0078 | Val Loss: 0.0081\n",
      "Epoch 521/600 | Train Loss: 0.0072 | Val Loss: 0.0071\n",
      "Epoch 531/600 | Train Loss: 0.0073 | Val Loss: 0.0079\n",
      "Epoch 541/600 | Train Loss: 0.0072 | Val Loss: 0.0064\n",
      "Epoch 551/600 | Train Loss: 0.0074 | Val Loss: 0.0071\n",
      "Epoch 561/600 | Train Loss: 0.0077 | Val Loss: 0.0067\n",
      "Epoch 571/600 | Train Loss: 0.0068 | Val Loss: 0.0065\n",
      "Epoch 581/600 | Train Loss: 0.0068 | Val Loss: 0.0065\n",
      "Epoch 591/600 | Train Loss: 0.0063 | Val Loss: 0.0081\n",
      "Epoch 600/600 | Train Loss: 0.0069 | Val Loss: 0.0068\n",
      "Best validation loss with He Initialization and Learning rate of 5e-4: 0.0059 at epoch 582\n"
     ]
    }
   ],
   "source": [
    "he_model_2 = LinearlyActuatedStrutsHe()\n",
    "# Train and evaluate\n",
    "history_he_2 = train_model(\n",
    "    model=he_model_2,\n",
    "    train_loader=train_loader,\n",
    "    val_loader=val_loader,\n",
    "    model_name=\"He_Model_5e-4\",\n",
    "    num_epochs=600,\n",
    "    scale_factor=73.8,  # Your specific scaling factor\n",
    "    lr= 5e-4,  # Learning rate for the second model\n",
    ")\n",
    "\n",
    "print(f\"Best validation loss with He Initialization and Learning rate of 5e-4: {history_he_2['best_val_loss']:.4f} at epoch {history_he_2['epoch_best']}\")"
   ]
  },
  {
   "cell_type": "code",
   "execution_count": 38,
   "metadata": {},
   "outputs": [
    {
     "name": "stdout",
     "output_type": "stream",
     "text": [
      "Model: He_Model_5e-4 | MSE: 0.5009 | MAE: 0.4107\n",
      "tensor([[73.8000, 73.7000, 73.8000,  0.6000,  0.1000, 69.9000],\n",
      "        [ 0.0000,  0.0000, 59.2000,  0.0000, 50.3000,  0.0000],\n",
      "        [48.9000, 29.4000,  0.2000, 17.4000, 24.5000, 24.0000],\n",
      "        ...,\n",
      "        [73.6000, 73.6000, 73.6000, 54.4000,  0.1000,  0.0000],\n",
      "        [73.7000, 73.5000, 73.8000,  0.0000, 73.4000, 52.2000],\n",
      "        [73.7000, 70.2000,  0.1000, 45.2000, 67.5000, 57.1000]])\n"
     ]
    }
   ],
   "source": [
    "he_pred_2, he_mse_2, he_mae_2 = calculate_model_performance(\"He_Model_5e-4\")\n",
    "\n",
    "he_pred_2 = torch.round(he_pred_2, decimals=1)\n",
    "print(he_pred_2)\n"
   ]
  }
 ],
 "metadata": {
  "kernelspec": {
   "display_name": "Python 3",
   "language": "python",
   "name": "python3"
  },
  "language_info": {
   "codemirror_mode": {
    "name": "ipython",
    "version": 3
   },
   "file_extension": ".py",
   "mimetype": "text/x-python",
   "name": "python",
   "nbconvert_exporter": "python",
   "pygments_lexer": "ipython3",
   "version": "3.9.10"
  }
 },
 "nbformat": 4,
 "nbformat_minor": 2
}
