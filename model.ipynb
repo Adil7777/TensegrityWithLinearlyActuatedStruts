{
 "cells": [
  {
   "cell_type": "code",
   "execution_count": 1,
   "metadata": {},
   "outputs": [],
   "source": [
    "from sklearn.model_selection import train_test_split\n",
    "from torch.utils.data import TensorDataset, DataLoader\n",
    "import matplotlib.pyplot as plt\n",
    "import torch\n",
    "import torch.nn as nn\n",
    "import torch.optim as optim\n",
    "import pandas as pd\n",
    "import numpy as np\n",
    "import random"
   ]
  },
  {
   "cell_type": "code",
   "execution_count": 2,
   "metadata": {},
   "outputs": [],
   "source": [
    "def set_seed(seed=42):\n",
    "    \"\"\"Set all random seeds for reproducibility\"\"\"\n",
    "    random.seed(seed)\n",
    "    np.random.seed(seed)\n",
    "    torch.manual_seed(seed)\n",
    "    torch.cuda.manual_seed_all(seed)  \n",
    "    torch.backends.cudnn.deterministic = True\n",
    "    torch.backends.cudnn.benchmark = False\n",
    "\n",
    "\n",
    "set_seed(42)  "
   ]
  },
  {
   "cell_type": "code",
   "execution_count": 17,
   "metadata": {},
   "outputs": [
    {
     "data": {
      "text/html": [
       "<div>\n",
       "<style scoped>\n",
       "    .dataframe tbody tr th:only-of-type {\n",
       "        vertical-align: middle;\n",
       "    }\n",
       "\n",
       "    .dataframe tbody tr th {\n",
       "        vertical-align: top;\n",
       "    }\n",
       "\n",
       "    .dataframe thead th {\n",
       "        text-align: right;\n",
       "    }\n",
       "</style>\n",
       "<table border=\"1\" class=\"dataframe\">\n",
       "  <thead>\n",
       "    <tr style=\"text-align: right;\">\n",
       "      <th></th>\n",
       "      <th>X</th>\n",
       "      <th>Y</th>\n",
       "      <th>Z</th>\n",
       "      <th>A0</th>\n",
       "      <th>A1</th>\n",
       "      <th>A2</th>\n",
       "      <th>A5</th>\n",
       "      <th>A6</th>\n",
       "      <th>A7</th>\n",
       "    </tr>\n",
       "  </thead>\n",
       "  <tbody>\n",
       "    <tr>\n",
       "      <th>0</th>\n",
       "      <td>0.000000</td>\n",
       "      <td>-0.759297</td>\n",
       "      <td>0.419074</td>\n",
       "      <td>3.31</td>\n",
       "      <td>2.01</td>\n",
       "      <td>0.0</td>\n",
       "      <td>1.94</td>\n",
       "      <td>1.58</td>\n",
       "      <td>1.65</td>\n",
       "    </tr>\n",
       "    <tr>\n",
       "      <th>1</th>\n",
       "      <td>0.058824</td>\n",
       "      <td>-0.759205</td>\n",
       "      <td>0.418863</td>\n",
       "      <td>3.39</td>\n",
       "      <td>2.23</td>\n",
       "      <td>0.0</td>\n",
       "      <td>2.09</td>\n",
       "      <td>1.73</td>\n",
       "      <td>1.80</td>\n",
       "    </tr>\n",
       "    <tr>\n",
       "      <th>2</th>\n",
       "      <td>0.117647</td>\n",
       "      <td>-0.759242</td>\n",
       "      <td>0.419042</td>\n",
       "      <td>3.46</td>\n",
       "      <td>2.16</td>\n",
       "      <td>0.0</td>\n",
       "      <td>2.09</td>\n",
       "      <td>1.80</td>\n",
       "      <td>1.87</td>\n",
       "    </tr>\n",
       "    <tr>\n",
       "      <th>3</th>\n",
       "      <td>0.176471</td>\n",
       "      <td>-0.759302</td>\n",
       "      <td>0.419248</td>\n",
       "      <td>3.67</td>\n",
       "      <td>2.30</td>\n",
       "      <td>0.0</td>\n",
       "      <td>2.23</td>\n",
       "      <td>1.87</td>\n",
       "      <td>1.94</td>\n",
       "    </tr>\n",
       "    <tr>\n",
       "      <th>4</th>\n",
       "      <td>0.235294</td>\n",
       "      <td>-0.759177</td>\n",
       "      <td>0.418970</td>\n",
       "      <td>3.82</td>\n",
       "      <td>2.30</td>\n",
       "      <td>0.0</td>\n",
       "      <td>2.16</td>\n",
       "      <td>1.87</td>\n",
       "      <td>1.94</td>\n",
       "    </tr>\n",
       "  </tbody>\n",
       "</table>\n",
       "</div>"
      ],
      "text/plain": [
       "          X         Y         Z    A0    A1   A2    A5    A6    A7\n",
       "0  0.000000 -0.759297  0.419074  3.31  2.01  0.0  1.94  1.58  1.65\n",
       "1  0.058824 -0.759205  0.418863  3.39  2.23  0.0  2.09  1.73  1.80\n",
       "2  0.117647 -0.759242  0.419042  3.46  2.16  0.0  2.09  1.80  1.87\n",
       "3  0.176471 -0.759302  0.419248  3.67  2.30  0.0  2.23  1.87  1.94\n",
       "4  0.235294 -0.759177  0.418970  3.82  2.30  0.0  2.16  1.87  1.94"
      ]
     },
     "execution_count": 17,
     "metadata": {},
     "output_type": "execute_result"
    }
   ],
   "source": [
    "dataset = pd.read_csv('dataset.csv')\n",
    "dataset.head()"
   ]
  },
  {
   "cell_type": "code",
   "execution_count": 18,
   "metadata": {},
   "outputs": [
    {
     "name": "stdout",
     "output_type": "stream",
     "text": [
      "<class 'pandas.core.frame.DataFrame'>\n",
      "RangeIndex: 10708 entries, 0 to 10707\n",
      "Data columns (total 9 columns):\n",
      " #   Column  Non-Null Count  Dtype  \n",
      "---  ------  --------------  -----  \n",
      " 0   X       10708 non-null  float64\n",
      " 1   Y       10708 non-null  float64\n",
      " 2   Z       10708 non-null  float64\n",
      " 3   A0      10708 non-null  float64\n",
      " 4   A1      10708 non-null  float64\n",
      " 5   A2      10708 non-null  float64\n",
      " 6   A5      10708 non-null  float64\n",
      " 7   A6      10708 non-null  float64\n",
      " 8   A7      10708 non-null  float64\n",
      "dtypes: float64(9)\n",
      "memory usage: 753.0 KB\n"
     ]
    }
   ],
   "source": [
    "dataset.info()"
   ]
  },
  {
   "cell_type": "code",
   "execution_count": 19,
   "metadata": {},
   "outputs": [],
   "source": [
    "X, y = dataset[[\"X\", \"Y\", \"Z\"]], dataset[['A0', 'A1', 'A2', 'A5', 'A6', 'A7']]\n",
    "\n",
    "x_mean = X.iloc[:, 0].mean()\n",
    "\n",
    "x_std = X.iloc[:, 0].std()\n",
    "y_mean = X.iloc[:, 1].mean()\n",
    "y_std = X.iloc[:, 1].std()\n",
    "z_mean = X.iloc[:, 2].mean()\n",
    "z_std = X.iloc[:, 2].std()\n",
    "\n",
    "# Normalize each column\n",
    "X_norm = np.copy(X)\n",
    "X_norm[:, 0] = (X.iloc[:, 0] - x_mean) / x_std\n",
    "X_norm[:, 1] = (X.iloc[:, 1] - y_mean) / y_std\n",
    "X_norm[:, 2] = (X.iloc[:, 2] - z_mean) / z_std\n",
    "\n",
    "y_norm = y / 73.8"
   ]
  },
  {
   "cell_type": "code",
   "execution_count": 20,
   "metadata": {},
   "outputs": [],
   "source": [
    "X_norm = torch.tensor(pd.DataFrame(X_norm).values, dtype=torch.float32)\n",
    "y_norm = torch.tensor(pd.DataFrame(y_norm).values, dtype=torch.float32)\n",
    "\n",
    "X_train, X_temp, y_train, y_temp = train_test_split(X_norm, y_norm, test_size=0.2, shuffle=True, random_state=42)\n",
    "X_val, X_test, y_val, y_test = train_test_split(X_temp, y_temp, test_size=0.5, random_state=42)"
   ]
  },
  {
   "cell_type": "code",
   "execution_count": 21,
   "metadata": {},
   "outputs": [
    {
     "data": {
      "text/plain": [
       "tensor([[-0.9425,  0.6090,  1.6928],\n",
       "        [-0.7765,  1.6047,  0.8203],\n",
       "        [ 1.5648, -0.5537,  0.8535],\n",
       "        ...,\n",
       "        [-0.1568, -0.2147, -1.0535],\n",
       "        [-1.2321, -1.6867,  0.6647],\n",
       "        [ 0.6153,  0.3961,  0.7643]])"
      ]
     },
     "execution_count": 21,
     "metadata": {},
     "output_type": "execute_result"
    }
   ],
   "source": [
    "X_train"
   ]
  },
  {
   "cell_type": "code",
   "execution_count": 22,
   "metadata": {},
   "outputs": [],
   "source": [
    "# Create datasets\n",
    "train_dataset = TensorDataset(X_train, y_train)\n",
    "val_dataset = TensorDataset(X_val, y_val)\n",
    "\n",
    "# Create loaders\n",
    "train_loader = DataLoader(train_dataset, batch_size=32, shuffle=True)\n",
    "val_loader = DataLoader(val_dataset, batch_size=32, shuffle=False)"
   ]
  },
  {
   "cell_type": "code",
   "execution_count": 9,
   "metadata": {},
   "outputs": [],
   "source": [
    "class LinearlyActuatedStruts(nn.Module):\n",
    "    def __init__(self):\n",
    "        super(LinearlyActuatedStruts, self).__init__()\n",
    "        self.model = nn.Sequential(\n",
    "            nn.Linear(3, 64),\n",
    "            nn.ReLU(),\n",
    "            nn.Linear(64, 128),\n",
    "            nn.ReLU(),\n",
    "            nn.Linear(128, 64),\n",
    "            nn.ReLU(),\n",
    "            nn.Linear(64, 6),\n",
    "            nn.Sigmoid()  # Constrain to [0, 1]\n",
    "        )\n",
    "        \n",
    "    def forward(self, x):\n",
    "        return self.model(x)"
   ]
  },
  {
   "cell_type": "code",
   "execution_count": 25,
   "metadata": {},
   "outputs": [
    {
     "name": "stdout",
     "output_type": "stream",
     "text": [
      "Epoch 10/170 | Train Loss: 0.09868487644455275 | Val Loss: 0.08852626525238352\n",
      "Epoch 20/170 | Train Loss: 0.0456952218002985 | Val Loss: 0.044280328820978036\n",
      "Epoch 30/170 | Train Loss: 0.0372118005600151 | Val Loss: 0.0283613821282614\n",
      "Epoch 40/170 | Train Loss: 0.02880561099929935 | Val Loss: 0.03454982355567666\n",
      "Epoch 50/170 | Train Loss: 0.02703548149211887 | Val Loss: 0.02682164589954665\n",
      "Epoch 60/170 | Train Loss: 0.025158609535599796 | Val Loss: 0.026886538229075635\n",
      "Epoch 70/170 | Train Loss: 0.03475043643769758 | Val Loss: 0.019870408082614702\n",
      "Epoch 80/170 | Train Loss: 0.01862667601794247 | Val Loss: 0.02469665703998131\n",
      "Epoch 90/170 | Train Loss: 0.02267016693627607 | Val Loss: 0.015902267364240174\n",
      "Epoch 100/170 | Train Loss: 0.018172382271160453 | Val Loss: 0.01635815273935392\n",
      "Epoch 110/170 | Train Loss: 0.01998938086224442 | Val Loss: 0.017583741601717957\n",
      "Epoch 120/170 | Train Loss: 0.01733247459443622 | Val Loss: 0.017438337010352974\n",
      "Epoch 130/170 | Train Loss: 0.01425613627008317 | Val Loss: 0.012315337612576627\n",
      "Epoch 140/170 | Train Loss: 0.015172699990774868 | Val Loss: 0.012875658269233497\n",
      "Epoch 150/170 | Train Loss: 0.01663678196090757 | Val Loss: 0.016592337864675136\n",
      "Epoch 160/170 | Train Loss: 0.013876192337820597 | Val Loss: 0.01788604573443035\n",
      "Epoch 170/170 | Train Loss: 0.026891498188413167 | Val Loss: 0.010994261020915328\n",
      "Best Validation Loss: 0.010252731201457085 at epoch 170\n"
     ]
    }
   ],
   "source": [
    "model = LinearlyActuatedStruts()  \n",
    "criterion = nn.MSELoss()\n",
    "optimizer = optim.Adam(model.parameters(), lr=1e-3)\n",
    "\n",
    "num_epochs = 170\n",
    "\n",
    "train_losses = []\n",
    "val_losses = []\n",
    "counter = 1\n",
    "\n",
    "best_validation_loss = float('inf')\n",
    "best_model = None\n",
    "\n",
    "for epoch in range(num_epochs):\n",
    "    model.train()\n",
    "    train_loss = 0.0\n",
    "    for inputs, targets in train_loader:\n",
    "        optimizer.zero_grad()\n",
    "        outputs = model(inputs)\n",
    "        loss = criterion(outputs, targets)\n",
    "        loss.backward()\n",
    "        optimizer.step()\n",
    "        train_loss += loss.item() * inputs.size(0)\n",
    "    train_loss /= len(train_loader.dataset)\n",
    "    train_losses.append(train_loss * 73.8)\n",
    "    \n",
    "    # Validation\n",
    "    model.eval()\n",
    "    val_loss = 0.0\n",
    "    with torch.no_grad():\n",
    "        for inputs, targets in val_loader:\n",
    "            outputs = model(inputs)\n",
    "            loss = criterion(outputs, targets)\n",
    "            val_loss += loss.item() * inputs.size(0)\n",
    "    val_loss /= len(val_loader.dataset)\n",
    "    val_losses.append(val_loss * 73.8)\n",
    "\n",
    "    if val_loss * 73.8 < best_validation_loss:\n",
    "        best_validation_loss = val_loss * 73.8\n",
    "        best_model = model.state_dict()\n",
    "\n",
    "    if counter % 10 == 0:\n",
    "        print(f\"Epoch {epoch+1}/{num_epochs} | Train Loss: {train_loss * 73.8} | Val Loss: {val_loss * 73.8}\")\n",
    "    counter += 1\n",
    "\n",
    "\n",
    "print(f\"Best Validation Loss: {best_validation_loss} at epoch {counter-1}\")\n",
    "torch.save(best_model, 'best_NN_model.pth')"
   ]
  },
  {
   "cell_type": "code",
   "execution_count": 26,
   "metadata": {},
   "outputs": [
    {
     "data": {
      "image/png": "[encoded data removed]",
      "text/plain": [
       "<Figure size 1000x500 with 1 Axes>"
      ]
     },
     "metadata": {},
     "output_type": "display_data"
    }
   ],
   "source": [
    "def plot_losses(train_loss, val_loss):\n",
    "    epochs = np.arange(1, len(train_loss) + 1)\n",
    "    plt.figure(figsize=(10, 5))\n",
    "    plt.plot(epochs, train_loss, label='Train Loss')\n",
    "    plt.plot(epochs, val_loss, label='Validation Loss')\n",
    "    plt.title('Losses over Epochs')\n",
    "    plt.xlabel('Epochs')\n",
    "    plt.ylabel('Loss')\n",
    "    plt.legend()\n",
    "    plt.show()\n",
    "\n",
    "\n",
    "plot_losses(train_losses, val_losses)"
   ]
  },
  {
   "cell_type": "code",
   "execution_count": 27,
   "metadata": {},
   "outputs": [],
   "source": [
    "model.eval()\n",
    "with torch.no_grad():\n",
    "    predictions = model(X_test)\n",
    "\n",
    "# Rescale predictions back to [0, 73.8]\n",
    "pred_real = predictions * 73.8"
   ]
  },
  {
   "cell_type": "code",
   "execution_count": 33,
   "metadata": {},
   "outputs": [
    {
     "name": "stdout",
     "output_type": "stream",
     "text": [
      "tensor([[73.8000, 73.8000, 73.8000,  1.2000,  0.1000, 68.1000],\n",
      "        [ 0.0000,  0.1000, 58.5000,  0.0000, 48.7000,  0.0000],\n",
      "        [48.7000, 28.8000,  0.4000, 16.7000, 24.1000, 23.5000],\n",
      "        ...,\n",
      "        [73.8000, 73.7000, 73.8000, 54.7000,  0.2000,  0.0000],\n",
      "        [73.8000, 73.7000, 73.7000,  0.0000, 73.7000, 54.7000],\n",
      "        [73.6000, 69.5000,  0.2000, 43.2000, 66.0000, 55.7000]])\n"
     ]
    }
   ],
   "source": [
    "y_test_scaled = y_test * 73.8\n",
    "pred_real = torch.round(pred_real, decimals=1)\n",
    "print(pred_real)"
   ]
  },
  {
   "cell_type": "code",
   "execution_count": 34,
   "metadata": {},
   "outputs": [
    {
     "name": "stdout",
     "output_type": "stream",
     "text": [
      "tensor([[73.4300, 73.3600, 73.2900,  0.0000,  0.0000, 69.4700],\n",
      "        [ 0.0000,  0.0000, 57.5600,  0.0000, 48.9800,  0.0000],\n",
      "        [49.2700, 28.4200,  0.0000, 16.8800, 24.0200, 23.3700],\n",
      "        ...,\n",
      "        [73.8000, 73.7200, 73.8000, 54.3900,  0.0000,  0.0000],\n",
      "        [73.8000, 73.8000, 73.8000,  0.0000, 73.8000, 54.6100],\n",
      "        [73.5800, 71.1300,  0.0000, 44.6500, 67.7400, 56.7000]])\n"
     ]
    }
   ],
   "source": [
    "print(y_test_scaled)"
   ]
  },
  {
   "cell_type": "code",
   "execution_count": 31,
   "metadata": {},
   "outputs": [
    {
     "name": "stdout",
     "output_type": "stream",
     "text": [
      "Test Loss (MSE): 0.8020479083061218\n"
     ]
    }
   ],
   "source": [
    "# Calculate the mean squared error\n",
    "mse = nn.MSELoss()\n",
    "test_loss = mse(pred_real, y_test_scaled).item() \n",
    "print(f\"Test Loss (MSE): {test_loss}\")"
   ]
  }
 ],
 "metadata": {
  "kernelspec": {
   "display_name": "Python 3",
   "language": "python",
   "name": "python3"
  },
  "language_info": {
   "codemirror_mode": {
    "name": "ipython",
    "version": 3
   },
   "file_extension": ".py",
   "mimetype": "text/x-python",
   "name": "python",
   "nbconvert_exporter": "python",
   "pygments_lexer": "ipython3",
   "version": "3.9.10"
  }
 },
 "nbformat": 4,
 "nbformat_minor": 2
}
