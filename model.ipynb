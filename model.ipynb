{
 "cells": [
  {
   "cell_type": "code",
   "execution_count": 27,
   "metadata": {},
   "outputs": [],
   "source": [
    "from sklearn.model_selection import train_test_split\n",
    "from torch.utils.data import TensorDataset, DataLoader\n",
    "import matplotlib.pyplot as plt\n",
    "import torch\n",
    "import torch.nn as nn\n",
    "import torch.optim as optim\n",
    "import pandas as pd\n",
    "import numpy as np\n",
    "import random"
   ]
  },
  {
   "cell_type": "code",
   "execution_count": 28,
   "metadata": {},
   "outputs": [],
   "source": [
    "def set_seed(seed=42):\n",
    "    \"\"\"Set all random seeds for reproducibility\"\"\"\n",
    "    random.seed(seed)\n",
    "    np.random.seed(seed)\n",
    "    torch.manual_seed(seed)\n",
    "    torch.cuda.manual_seed_all(seed)  \n",
    "    torch.backends.cudnn.deterministic = True\n",
    "    torch.backends.cudnn.benchmark = False\n",
    "\n",
    "\n",
    "set_seed(42)  "
   ]
  },
  {
   "cell_type": "code",
   "execution_count": 3,
   "metadata": {},
   "outputs": [
    {
     "data": {
      "text/html": [
       "<div>\n",
       "<style scoped>\n",
       "    .dataframe tbody tr th:only-of-type {\n",
       "        vertical-align: middle;\n",
       "    }\n",
       "\n",
       "    .dataframe tbody tr th {\n",
       "        vertical-align: top;\n",
       "    }\n",
       "\n",
       "    .dataframe thead th {\n",
       "        text-align: right;\n",
       "    }\n",
       "</style>\n",
       "<table border=\"1\" class=\"dataframe\">\n",
       "  <thead>\n",
       "    <tr style=\"text-align: right;\">\n",
       "      <th></th>\n",
       "      <th>X</th>\n",
       "      <th>Y</th>\n",
       "      <th>Z</th>\n",
       "      <th>A0</th>\n",
       "      <th>A1</th>\n",
       "      <th>A2</th>\n",
       "      <th>A5</th>\n",
       "      <th>A6</th>\n",
       "      <th>A7</th>\n",
       "    </tr>\n",
       "  </thead>\n",
       "  <tbody>\n",
       "    <tr>\n",
       "      <th>0</th>\n",
       "      <td>0.000000</td>\n",
       "      <td>-0.759297</td>\n",
       "      <td>0.419074</td>\n",
       "      <td>3.31</td>\n",
       "      <td>2.01</td>\n",
       "      <td>0.0</td>\n",
       "      <td>1.94</td>\n",
       "      <td>1.58</td>\n",
       "      <td>1.65</td>\n",
       "    </tr>\n",
       "    <tr>\n",
       "      <th>1</th>\n",
       "      <td>0.058824</td>\n",
       "      <td>-0.759205</td>\n",
       "      <td>0.418863</td>\n",
       "      <td>3.39</td>\n",
       "      <td>2.23</td>\n",
       "      <td>0.0</td>\n",
       "      <td>2.09</td>\n",
       "      <td>1.73</td>\n",
       "      <td>1.80</td>\n",
       "    </tr>\n",
       "    <tr>\n",
       "      <th>2</th>\n",
       "      <td>0.117647</td>\n",
       "      <td>-0.759242</td>\n",
       "      <td>0.419042</td>\n",
       "      <td>3.46</td>\n",
       "      <td>2.16</td>\n",
       "      <td>0.0</td>\n",
       "      <td>2.09</td>\n",
       "      <td>1.80</td>\n",
       "      <td>1.87</td>\n",
       "    </tr>\n",
       "    <tr>\n",
       "      <th>3</th>\n",
       "      <td>0.176471</td>\n",
       "      <td>-0.759302</td>\n",
       "      <td>0.419248</td>\n",
       "      <td>3.67</td>\n",
       "      <td>2.30</td>\n",
       "      <td>0.0</td>\n",
       "      <td>2.23</td>\n",
       "      <td>1.87</td>\n",
       "      <td>1.94</td>\n",
       "    </tr>\n",
       "    <tr>\n",
       "      <th>4</th>\n",
       "      <td>0.235294</td>\n",
       "      <td>-0.759177</td>\n",
       "      <td>0.418970</td>\n",
       "      <td>3.82</td>\n",
       "      <td>2.30</td>\n",
       "      <td>0.0</td>\n",
       "      <td>2.16</td>\n",
       "      <td>1.87</td>\n",
       "      <td>1.94</td>\n",
       "    </tr>\n",
       "  </tbody>\n",
       "</table>\n",
       "</div>"
      ],
      "text/plain": [
       "          X         Y         Z    A0    A1   A2    A5    A6    A7\n",
       "0  0.000000 -0.759297  0.419074  3.31  2.01  0.0  1.94  1.58  1.65\n",
       "1  0.058824 -0.759205  0.418863  3.39  2.23  0.0  2.09  1.73  1.80\n",
       "2  0.117647 -0.759242  0.419042  3.46  2.16  0.0  2.09  1.80  1.87\n",
       "3  0.176471 -0.759302  0.419248  3.67  2.30  0.0  2.23  1.87  1.94\n",
       "4  0.235294 -0.759177  0.418970  3.82  2.30  0.0  2.16  1.87  1.94"
      ]
     },
     "execution_count": 3,
     "metadata": {},
     "output_type": "execute_result"
    }
   ],
   "source": [
    "dataset = pd.read_csv('dataset.csv')\n",
    "dataset.head()"
   ]
  },
  {
   "cell_type": "code",
   "execution_count": 4,
   "metadata": {},
   "outputs": [
    {
     "name": "stdout",
     "output_type": "stream",
     "text": [
      "<class 'pandas.core.frame.DataFrame'>\n",
      "RangeIndex: 10708 entries, 0 to 10707\n",
      "Data columns (total 9 columns):\n",
      " #   Column  Non-Null Count  Dtype  \n",
      "---  ------  --------------  -----  \n",
      " 0   X       10708 non-null  float64\n",
      " 1   Y       10708 non-null  float64\n",
      " 2   Z       10708 non-null  float64\n",
      " 3   A0      10708 non-null  float64\n",
      " 4   A1      10708 non-null  float64\n",
      " 5   A2      10708 non-null  float64\n",
      " 6   A5      10708 non-null  float64\n",
      " 7   A6      10708 non-null  float64\n",
      " 8   A7      10708 non-null  float64\n",
      "dtypes: float64(9)\n",
      "memory usage: 753.0 KB\n"
     ]
    }
   ],
   "source": [
    "dataset.info()"
   ]
  },
  {
   "cell_type": "code",
   "execution_count": 5,
   "metadata": {},
   "outputs": [],
   "source": [
    "X, y = dataset[[\"X\", \"Y\", \"Z\"]], dataset[['A0', 'A1', 'A2', 'A5', 'A6', 'A7']]\n",
    "\n",
    "x_mean = X.iloc[:, 0].mean()\n",
    "\n",
    "x_std = X.iloc[:, 0].std()\n",
    "y_mean = X.iloc[:, 1].mean()\n",
    "y_std = X.iloc[:, 1].std()\n",
    "z_mean = X.iloc[:, 2].mean()\n",
    "z_std = X.iloc[:, 2].std()\n",
    "\n",
    "# Normalize each column\n",
    "X_norm = np.copy(X)\n",
    "X_norm[:, 0] = (X.iloc[:, 0] - x_mean) / x_std\n",
    "X_norm[:, 1] = (X.iloc[:, 1] - y_mean) / y_std\n",
    "X_norm[:, 2] = (X.iloc[:, 2] - z_mean) / z_std\n",
    "\n",
    "y_norm = y / 73.8"
   ]
  },
  {
   "cell_type": "code",
   "execution_count": 6,
   "metadata": {},
   "outputs": [],
   "source": [
    "X_norm = torch.tensor(pd.DataFrame(X_norm).values, dtype=torch.float32)\n",
    "y_norm = torch.tensor(pd.DataFrame(y_norm).values, dtype=torch.float32)\n",
    "\n",
    "X_train, X_temp, y_train, y_temp = train_test_split(X_norm, y_norm, test_size=0.2, shuffle=True, random_state=42)\n",
    "X_val, X_test, y_val, y_test = train_test_split(X_temp, y_temp, test_size=0.5, random_state=42)"
   ]
  },
  {
   "cell_type": "code",
   "execution_count": 7,
   "metadata": {},
   "outputs": [
    {
     "data": {
      "text/plain": [
       "tensor([[-0.9425,  0.6090,  1.6928],\n",
       "        [-0.7765,  1.6047,  0.8203],\n",
       "        [ 1.5648, -0.5537,  0.8535],\n",
       "        ...,\n",
       "        [-0.1568, -0.2147, -1.0535],\n",
       "        [-1.2321, -1.6867,  0.6647],\n",
       "        [ 0.6153,  0.3961,  0.7643]])"
      ]
     },
     "execution_count": 7,
     "metadata": {},
     "output_type": "execute_result"
    }
   ],
   "source": [
    "X_train"
   ]
  },
  {
   "cell_type": "code",
   "execution_count": 8,
   "metadata": {},
   "outputs": [],
   "source": [
    "# Create datasets\n",
    "train_dataset = TensorDataset(X_train, y_train)\n",
    "val_dataset = TensorDataset(X_val, y_val)\n",
    "\n",
    "# Create loaders\n",
    "train_loader = DataLoader(train_dataset, batch_size=32, shuffle=True)\n",
    "val_loader = DataLoader(val_dataset, batch_size=32, shuffle=False)"
   ]
  },
  {
   "cell_type": "code",
   "execution_count": 9,
   "metadata": {},
   "outputs": [],
   "source": [
    "class LinearlyActuatedStruts(nn.Module):\n",
    "    def __init__(self):\n",
    "        super(LinearlyActuatedStruts, self).__init__()\n",
    "        self.model = nn.Sequential(\n",
    "            nn.Linear(3, 64),\n",
    "            nn.ReLU(),\n",
    "            nn.Linear(64, 128),\n",
    "            nn.ReLU(),\n",
    "            nn.Linear(128, 64),\n",
    "            nn.ReLU(),\n",
    "            nn.Linear(64, 6),\n",
    "            nn.Sigmoid()  # Constrain to [0, 1]\n",
    "        )\n",
    "        \n",
    "    def forward(self, x):\n",
    "        return self.model(x)"
   ]
  },
  {
   "cell_type": "code",
   "execution_count": 35,
   "metadata": {},
   "outputs": [
    {
     "name": "stdout",
     "output_type": "stream",
     "text": [
      "Epoch 10/170 | Train Loss: 0.0012 | Val Loss: 0.0012\n",
      "Epoch 20/170 | Train Loss: 0.0007 | Val Loss: 0.0006\n",
      "Epoch 30/170 | Train Loss: 0.0006 | Val Loss: 0.0006\n",
      "Epoch 40/170 | Train Loss: 0.0005 | Val Loss: 0.0004\n",
      "Epoch 50/170 | Train Loss: 0.0004 | Val Loss: 0.0004\n",
      "Epoch 60/170 | Train Loss: 0.0004 | Val Loss: 0.0003\n",
      "Epoch 70/170 | Train Loss: 0.0003 | Val Loss: 0.0005\n",
      "Epoch 80/170 | Train Loss: 0.0003 | Val Loss: 0.0003\n",
      "Epoch 90/170 | Train Loss: 0.0003 | Val Loss: 0.0003\n",
      "Epoch 100/170 | Train Loss: 0.0003 | Val Loss: 0.0002\n",
      "Epoch 110/170 | Train Loss: 0.0002 | Val Loss: 0.0002\n",
      "Epoch 120/170 | Train Loss: 0.0002 | Val Loss: 0.0003\n",
      "Epoch 130/170 | Train Loss: 0.0003 | Val Loss: 0.0002\n",
      "Epoch 140/170 | Train Loss: 0.0002 | Val Loss: 0.0002\n",
      "Epoch 150/170 | Train Loss: 0.0002 | Val Loss: 0.0003\n",
      "Epoch 160/170 | Train Loss: 0.0002 | Val Loss: 0.0003\n",
      "Epoch 170/170 | Train Loss: 0.0002 | Val Loss: 0.0002\n"
     ]
    }
   ],
   "source": [
    "model = LinearlyActuatedStruts()  \n",
    "criterion = nn.MSELoss()\n",
    "optimizer = optim.Adam(model.parameters(), lr=1e-3)\n",
    "\n",
    "num_epochs = 170\n",
    "\n",
    "train_losses = []\n",
    "val_losses = []\n",
    "counter = 1\n",
    "\n",
    "for epoch in range(num_epochs):\n",
    "    model.train()\n",
    "    train_loss = 0.0\n",
    "    for inputs, targets in train_loader:\n",
    "        optimizer.zero_grad()\n",
    "        outputs = model(inputs)\n",
    "        loss = criterion(outputs, targets)\n",
    "        loss.backward()\n",
    "        optimizer.step()\n",
    "        train_loss += loss.item() * inputs.size(0)\n",
    "    \n",
    "    train_loss /= len(train_loader.dataset)\n",
    "    train_losses.append(train_loss)\n",
    "    \n",
    "    # Validation\n",
    "    model.eval()\n",
    "    val_loss = 0.0\n",
    "    with torch.no_grad():\n",
    "        for inputs, targets in val_loader:\n",
    "            outputs = model(inputs)\n",
    "            loss = criterion(outputs, targets)\n",
    "            val_loss += loss.item() * inputs.size(0)\n",
    "    val_loss /= len(val_loader.dataset)\n",
    "    val_losses.append(val_loss)\n",
    "\n",
    "    if counter % 10 == 0:\n",
    "        print(f\"Epoch {epoch+1}/{num_epochs} | Train Loss: {train_loss:.4f} | Val Loss: {val_loss:.4f}\")\n",
    "    counter += 1"
   ]
  },
  {
   "cell_type": "code",
   "execution_count": 36,
   "metadata": {},
   "outputs": [
    {
     "data": {
      "image/png": "[encoded data removed]",
      "text/plain": [
       "<Figure size 1000x500 with 1 Axes>"
      ]
     },
     "metadata": {},
     "output_type": "display_data"
    }
   ],
   "source": [
    "def plot_losses(train_loss, val_loss):\n",
    "    epochs = np.arange(1, len(train_loss) + 1)\n",
    "    plt.figure(figsize=(10, 5))\n",
    "    plt.plot(epochs, train_loss, label='Train Loss')\n",
    "    plt.plot(epochs, val_loss, label='Validation Loss')\n",
    "    plt.title('Losses over Epochs')\n",
    "    plt.xlabel('Epochs')\n",
    "    plt.ylabel('Loss')\n",
    "    plt.legend()\n",
    "    plt.show()\n",
    "\n",
    "\n",
    "plot_losses(train_losses, val_losses)"
   ]
  },
  {
   "cell_type": "code",
   "execution_count": 37,
   "metadata": {},
   "outputs": [],
   "source": [
    "model.eval()\n",
    "with torch.no_grad():\n",
    "    predictions = model(X_test)\n",
    "\n",
    "# Rescale predictions back to [0, 73.8]\n",
    "pred_real = predictions * 73.8"
   ]
  },
  {
   "cell_type": "code",
   "execution_count": 38,
   "metadata": {},
   "outputs": [
    {
     "name": "stdout",
     "output_type": "stream",
     "text": [
      "tensor([[7.3710e+01, 7.3800e+01, 7.3730e+01, 1.1100e+00, 2.0000e-02, 6.8750e+01],\n",
      "        [1.0000e-02, 2.5000e-01, 5.8470e+01, 6.0000e-02, 4.8390e+01, 4.0000e-02],\n",
      "        [4.9540e+01, 3.0040e+01, 3.9000e-01, 1.6960e+01, 2.4200e+01, 2.4650e+01],\n",
      "        ...,\n",
      "        [7.3450e+01, 7.3750e+01, 7.3680e+01, 5.6570e+01, 1.2000e-01, 3.0000e-02],\n",
      "        [7.3750e+01, 7.3670e+01, 7.3770e+01, 3.7000e-01, 7.3650e+01, 5.3040e+01],\n",
      "        [7.3710e+01, 7.0260e+01, 1.6000e-01, 4.3320e+01, 6.7170e+01, 5.6660e+01]])\n"
     ]
    }
   ],
   "source": [
    "y_test_scaled = y_test * 73.8\n",
    "pred_real = torch.round(pred_real, decimals=2)\n",
    "print(pred_real)"
   ]
  },
  {
   "cell_type": "code",
   "execution_count": 39,
   "metadata": {},
   "outputs": [
    {
     "name": "stdout",
     "output_type": "stream",
     "text": [
      "tensor([[73.4300, 73.3600, 73.2900,  0.0000,  0.0000, 69.4700],\n",
      "        [ 0.0000,  0.0000, 57.5600,  0.0000, 48.9800,  0.0000],\n",
      "        [49.2700, 28.4200,  0.0000, 16.8800, 24.0200, 23.3700],\n",
      "        ...,\n",
      "        [73.8000, 73.7200, 73.8000, 54.3900,  0.0000,  0.0000],\n",
      "        [73.8000, 73.8000, 73.8000,  0.0000, 73.8000, 54.6100],\n",
      "        [73.5800, 71.1300,  0.0000, 44.6500, 67.7400, 56.7000]])\n"
     ]
    }
   ],
   "source": [
    "print(y_test_scaled)"
   ]
  },
  {
   "cell_type": "code",
   "execution_count": 40,
   "metadata": {},
   "outputs": [
    {
     "name": "stdout",
     "output_type": "stream",
     "text": [
      "Mean Absolute Error: 0.5610\n"
     ]
    }
   ],
   "source": [
    "# Calculate the mean absolute error\n",
    "mae = torch.mean(torch.abs(pred_real - y_test_scaled))\n",
    "print(f'Mean Absolute Error: {mae.item():.4f}')"
   ]
  }
 ],
 "metadata": {
  "kernelspec": {
   "display_name": "Python 3",
   "language": "python",
   "name": "python3"
  },
  "language_info": {
   "codemirror_mode": {
    "name": "ipython",
    "version": 3
   },
   "file_extension": ".py",
   "mimetype": "text/x-python",
   "name": "python",
   "nbconvert_exporter": "python",
   "pygments_lexer": "ipython3",
   "version": "3.9.10"
  }
 },
 "nbformat": 4,
 "nbformat_minor": 2
}
